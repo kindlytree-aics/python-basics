{
 "cells": [
  {
   "cell_type": "markdown",
   "metadata": {},
   "source": [
    "Python如何快速求得子集list_b在母集list_a的位置(即：开始、终止索引值[2,4])?\n",
    "请教：Python如何快速求得如下子集list_b在母集list_a的位置(即：开始、终止索引值[2,4])，谢谢！\n",
    "\n",
    "list_a=['dd','ss','dd','bp','ss','ef','b1','d5','dd','ss']\n",
    "\n",
    "list_b=['dd','bp','ss']\n",
    "\n",
    "https://www.zhihu.com/question/566256137"
   ]
  },
  {
   "cell_type": "code",
   "execution_count": 6,
   "metadata": {},
   "outputs": [
    {
     "name": "stdout",
     "output_type": "stream",
     "text": [
      "6\n",
      "[2,4]\n"
     ]
    }
   ],
   "source": [
    "list_a = ['dd','ss','dd','bp','ss','ef','b1','d5','dd','ss']\n",
    "list_b = ['dd','bp','ss']\n",
    "\n",
    "list_a_join = '.'.join(list_a)\n",
    "list_b_join = '.'.join(list_b)\n",
    "idx = list_a_join.find(list_b_join)\n",
    "print(idx)\n",
    "\n",
    "start = len(list_a_join[:idx].split('.'))-1\n",
    "print('[{},{}]'.format(start, start+len(list_b)-1))"
   ]
  }
 ],
 "metadata": {
  "kernelspec": {
   "display_name": "Python 3.9.12 ('base')",
   "language": "python",
   "name": "python3"
  },
  "language_info": {
   "codemirror_mode": {
    "name": "ipython",
    "version": 3
   },
   "file_extension": ".py",
   "mimetype": "text/x-python",
   "name": "python",
   "nbconvert_exporter": "python",
   "pygments_lexer": "ipython3",
   "version": "3.9.12"
  },
  "orig_nbformat": 4,
  "vscode": {
   "interpreter": {
    "hash": "ad2bdc8ecc057115af97d19610ffacc2b4e99fae6737bb82f5d7fb13d2f2c186"
   }
  }
 },
 "nbformat": 4,
 "nbformat_minor": 2
}
