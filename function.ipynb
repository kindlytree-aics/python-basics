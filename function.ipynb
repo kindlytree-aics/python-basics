{
 "cells": [
  {
   "cell_type": "markdown",
   "metadata": {},
   "source": [
    "python函数的定义和调用\n",
    "sigmoid(y=1/(1+e^{-x}))\n",
    "斐波拉契函数"
   ]
  },
  {
   "cell_type": "code",
   "execution_count": 15,
   "metadata": {},
   "outputs": [
    {
     "name": "stdout",
     "output_type": "stream",
     "text": [
      "0.7310585786300049\n",
      "<class 'numpy.ndarray'>\n"
     ]
    },
    {
     "data": {
      "image/png": "[encoded data removed]",
      "text/plain": [
       "<Figure size 432x288 with 1 Axes>"
      ]
     },
     "metadata": {
      "needs_background": "light"
     },
     "output_type": "display_data"
    }
   ],
   "source": [
    "import math\n",
    "import numpy as np\n",
    "def sigmoid(x):\n",
    "    return 1/(1+math.e**(-x))\n",
    "\n",
    "print(sigmoid(1))\n",
    "\n",
    "list_x = []\n",
    "# for i in range(101):\n",
    "#     x = -5 + (10/100)*i\n",
    "#     list_x.append(x)\n",
    "list_y = []\n",
    "list_x = np.linspace(-5, 5, 500)\n",
    "print(type(list_x))\n",
    "list_y = sigmoid(list_x)\n",
    "\n",
    "#for x in np.arange(-5,5,0.01):\n",
    "#for x in list_x:\n",
    "    #list_x.append(x)\n",
    "    #list_y.append(sigmoid(x))\n",
    "# for x in list_x:\n",
    "#     y = sigmoid(x)\n",
    "#     list_y.append(y)\n",
    "\n",
    "import matplotlib.pyplot as plt\n",
    "\n",
    "plt.plot(list_x, list_y, 'o')\n",
    "plt.show()"
   ]
  },
  {
   "cell_type": "code",
   "execution_count": 15,
   "metadata": {},
   "outputs": [
    {
     "name": "stdout",
     "output_type": "stream",
     "text": [
      "[28.74783016 28.97855785 29.21125584 29.44594137 29.68263182]\n"
     ]
    },
    {
     "data": {
      "image/png": "[encoded data removed]",
      "text/plain": [
       "<Figure size 432x288 with 1 Axes>"
      ]
     },
     "metadata": {
      "needs_background": "light"
     },
     "output_type": "display_data"
    }
   ],
   "source": [
    "#函数eˣ/x怎么绘制 https://www.zhihu.com/question/574805773 \n",
    "import math\n",
    "import numpy as np\n",
    "def sigmoid(x):\n",
    "    return 1/(1+math.e**(-x))\n",
    "\n",
    "def f(x):\n",
    "    return math.e**(x)/x\n",
    "\n",
    "list_x = []\n",
    "list_y = []\n",
    "list_x = np.linspace(-5, 5, 1000)\n",
    "list_y = f(list_x)\n",
    "\n",
    "print(list_y[-5:])\n",
    "\n",
    "import matplotlib.pyplot as plt\n",
    "\n",
    "# 设置x轴的取值范围为：-5到5\n",
    "plt.xlim(-5, 5)\n",
    "# 设置y轴的取值范围为：-100到100\n",
    "plt.ylim(-100,100)\n",
    "\n",
    "plt.plot(list_x, list_y, linewidth=1.0, linestyle='-')\n",
    "plt.show()"
   ]
  },
  {
   "cell_type": "markdown",
   "metadata": {},
   "source": [
    "fibonacci函数\n",
    "f(1)=1,f(2)=1,f(3)=f(1)+f(2)=2\n",
    "f(4)=f(2)+f(3)=3\n",
    "f(x) = f(x-1)+f(x-2)\n",
    "1,1,2,3,5,8,13,21"
   ]
  },
  {
   "cell_type": "code",
   "execution_count": 2,
   "metadata": {},
   "outputs": [
    {
     "name": "stdout",
     "output_type": "stream",
     "text": [
      "[1, 1, 2, 3, 5, 8, 13, 21, 34, 55]\n",
      "55\n"
     ]
    }
   ],
   "source": [
    "# def fibonacci(x):\n",
    "#     if(x 2<=):\n",
    "#         return 1\n",
    "#     return fibonacci(x-1) + fibonacci(x-2)\n",
    "\n",
    "# print(fibonacci(10))\n",
    "result = [1, 1]\n",
    "for i in range(3,11):\n",
    "    f_i = result[-1]+result[-2]\n",
    "    result.append(f_i)\n",
    "print(result)\n",
    "\n",
    "\n",
    "def fibonacci(x):\n",
    "    if(x <=2):\n",
    "        return 1\n",
    "    return fibonacci(x-1) + fibonacci(x-2)\n",
    "\n",
    "print(fibonacci(10))"
   ]
  }
 ],
 "metadata": {
  "kernelspec": {
   "display_name": "Python 3.9.12 ('base')",
   "language": "python",
   "name": "python3"
  },
  "language_info": {
   "codemirror_mode": {
    "name": "ipython",
    "version": 3
   },
   "file_extension": ".py",
   "mimetype": "text/x-python",
   "name": "python",
   "nbconvert_exporter": "python",
   "pygments_lexer": "ipython3",
   "version": "3.9.12"
  },
  "orig_nbformat": 4,
  "vscode": {
   "interpreter": {
    "hash": "ad2bdc8ecc057115af97d19610ffacc2b4e99fae6737bb82f5d7fb13d2f2c186"
   }
  }
 },
 "nbformat": 4,
 "nbformat_minor": 2
}
