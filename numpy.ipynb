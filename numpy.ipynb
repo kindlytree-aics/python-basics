{
 "cells": [
  {
   "cell_type": "markdown",
   "metadata": {},
   "source": [
    "np.finfo使用方法\n",
    "\n",
    "eps是一个很小的非负数\n",
    "\n",
    "除法的分母不能为0的,不然会直接跳出显示错误。\n",
    "\n",
    "使用eps将可能出现的零用eps来替换，这样不会报错。"
   ]
  },
  {
   "cell_type": "code",
   "execution_count": null,
   "metadata": {},
   "outputs": [],
   "source": [
    "import numpy as np\n",
    "\n",
    "def gaussian2D(shape, sigma=1):\n",
    "    m, n = [(ss - 1.) / 2. for ss in shape]\n",
    "    y, x = np.ogrid[-m:m+1,-n:n+1]\n",
    "\n",
    "    \n",
    "    h = np.exp(-(x * x + y * y) / (2 * sigma * sigma))\n",
    "    h[h < np.finfo(h.dtype).eps * h.max()] = 0\n",
    "    return h"
   ]
  },
  {
   "cell_type": "markdown",
   "metadata": {},
   "source": [
    "如何利用二维数组实现矩阵的转置？\n",
    "https://www.zhihu.com/question/567714290"
   ]
  },
  {
   "cell_type": "code",
   "execution_count": null,
   "metadata": {},
   "outputs": [],
   "source": [
    "import numpy as np\n",
    "a = np.random.rand(2,2)\n",
    "print(a)\n",
    "\n",
    "b = a.transpose()\n",
    "print(b)\n",
    "\n",
    "#1024*768的图像，w*h*c，转换成c*h*w，即为pytorch里的图像tensor数据格式 \n",
    "h=768\n",
    "w=1024\n",
    "c = np.random.randint(0,high=255, size=(w,h,3))\n",
    "print(c.shape)\n",
    "\n",
    "d = c.transpose(2,1,0)\n",
    "print(d.shape)\n",
    "\n",
    "e = np.random.rand(3,2)\n",
    "print(e.shape)\n",
    "\n",
    "f = np.zeros((2,3), np.float64)\n",
    "for i in range(3):\n",
    "    for j in range(2):\n",
    "        print(e[i,j])\n",
    "        f[j,i] = e[i,j]\n",
    "\n",
    "print(e,f)"
   ]
  }
 ],
 "metadata": {
  "kernelspec": {
   "display_name": "Python 3.9.12 ('base')",
   "language": "python",
   "name": "python3"
  },
  "language_info": {
   "codemirror_mode": {
    "name": "ipython",
    "version": 3
   },
   "file_extension": ".py",
   "mimetype": "text/x-python",
   "name": "python",
   "nbconvert_exporter": "python",
   "pygments_lexer": "ipython3",
   "version": "3.9.12"
  },
  "orig_nbformat": 4,
  "vscode": {
   "interpreter": {
    "hash": "ad2bdc8ecc057115af97d19610ffacc2b4e99fae6737bb82f5d7fb13d2f2c186"
   }
  }
 },
 "nbformat": 4,
 "nbformat_minor": 2
}
