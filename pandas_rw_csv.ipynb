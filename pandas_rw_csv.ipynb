{
 "cells": [
  {
   "cell_type": "markdown",
   "metadata": {},
   "source": [
    "https://pandas.pydata.org/\n",
    "pandas 数据处理开发库，方便处理表格数据（特征工程），在机器学习中经常和sklearn等库结合使用\n",
    "csv，逗号分隔值（Comma-Separated Values，CSV，有时也称为字符分隔值，因为分隔字符也可以不是逗号），其文件以纯文本形式存储表格数据（数字和文本）"
   ]
  },
  {
   "cell_type": "markdown",
   "metadata": {},
   "source": [
    "| City         | State        | Capital | Population    |\n",
    "| ------------ | ------------ | ------- | ------------- |\n",
    "| Philadelphia | Pennsylvania | No      | 1.581 Million |\n",
    "| Sacramento   | California   | Yes     | 0.5 Million   |\n",
    "| New York     | New York     | No      | 8.623 Million |\n",
    "| Austin       | Texas        | Yes     | 0.95 Million  |\n",
    "| Miami        | Florida      | No      | 0.463 Million |"
   ]
  },
  {
   "cell_type": "code",
   "execution_count": null,
   "metadata": {},
   "outputs": [],
   "source": [
    "import pandas as pd\n",
    "city_data = pd.read_csv('./data/city.csv')\n",
    "city_data.head()"
   ]
  },
  {
   "cell_type": "code",
   "execution_count": null,
   "metadata": {},
   "outputs": [],
   "source": [
    "city = pd.DataFrame([['Sacramento', 'California'], ['Miami', 'Florida']], columns=['City', 'State'])\n",
    "city.to_csv('./data/city_w.csv')"
   ]
  }
 ],
 "metadata": {
  "kernelspec": {
   "display_name": "Python 3.9.12 ('base')",
   "language": "python",
   "name": "python3"
  },
  "language_info": {
   "codemirror_mode": {
    "name": "ipython",
    "version": 3
   },
   "file_extension": ".py",
   "mimetype": "text/x-python",
   "name": "python",
   "nbconvert_exporter": "python",
   "pygments_lexer": "ipython3",
   "version": "3.9.12"
  },
  "orig_nbformat": 4,
  "vscode": {
   "interpreter": {
    "hash": "ad2bdc8ecc057115af97d19610ffacc2b4e99fae6737bb82f5d7fb13d2f2c186"
   }
  }
 },
 "nbformat": 4,
 "nbformat_minor": 2
}
