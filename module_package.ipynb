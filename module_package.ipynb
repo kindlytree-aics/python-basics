{
 "cells": [
  {
   "cell_type": "code",
   "execution_count": 24,
   "metadata": {},
   "outputs": [
    {
     "name": "stdout",
     "output_type": "stream",
     "text": [
      "4 -2\n"
     ]
    }
   ],
   "source": [
    "import sys\n",
    "sys.path.append('.')\n",
    "\n",
    "from module_package import *\n",
    "\n",
    "a = add(1,3)\n",
    "b= substract(1,3)\n",
    "\n",
    "print(a,b)"
   ]
  },
  {
   "cell_type": "code",
   "execution_count": 20,
   "metadata": {},
   "outputs": [
    {
     "name": "stdout",
     "output_type": "stream",
     "text": [
      ".\\live_1.ipynb\n",
      ".\\live_2.ipynb\n",
      ".\\live_3.ipynb\n",
      ".\\live_4.ipynb\n",
      ".\\module_package.ipynb\n",
      ".\\module_package.py\n",
      ".\\legacy\n",
      ".\\module_package\n",
      ".\\legacy\\data_type-tuple-list.ipynb\n",
      ".\\legacy\\for-while-loop.ipynb\n",
      ".\\legacy\\function.ipynb\n",
      ".\\legacy\\hello-world.ipynb\n",
      ".\\legacy\\indent-if-statement.ipynb\n",
      ".\\legacy\\operatoers.ipynb\n",
      ".\\module_package\\add.py\n",
      ".\\module_package\\substract.py\n",
      ".\\module_package\\__init__.py\n",
      ".\\module_package\\sub_package\n",
      ".\\module_package\\__pycache__\n",
      ".\\module_package\\__pycache__\\add.cpython-39.pyc\n",
      ".\\module_package\\__pycache__\\substract.cpython-39.pyc\n",
      ".\\module_package\\__pycache__\\__init__.cpython-39.pyc\n"
     ]
    }
   ],
   "source": [
    "import os\n",
    "\n",
    "for root, dirs, files in os.walk(\".\"):\n",
    "    for file in files:\n",
    "        print(os.path.join(root, file))\n",
    "    for dir in dirs:\n",
    "        print(os.path.join(root, dir))\n"
   ]
  }
 ],
 "metadata": {
  "kernelspec": {
   "display_name": "Python 3.9.12 ('base')",
   "language": "python",
   "name": "python3"
  },
  "language_info": {
   "codemirror_mode": {
    "name": "ipython",
    "version": 3
   },
   "file_extension": ".py",
   "mimetype": "text/x-python",
   "name": "python",
   "nbconvert_exporter": "python",
   "pygments_lexer": "ipython3",
   "version": "3.9.12"
  },
  "orig_nbformat": 4,
  "vscode": {
   "interpreter": {
    "hash": "ad2bdc8ecc057115af97d19610ffacc2b4e99fae6737bb82f5d7fb13d2f2c186"
   }
  }
 },
 "nbformat": 4,
 "nbformat_minor": 2
}
