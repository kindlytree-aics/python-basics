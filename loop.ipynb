{
 "cells": [
  {
   "cell_type": "markdown",
   "metadata": {},
   "source": [
    "1,循环语句，for，while"
   ]
  },
  {
   "cell_type": "code",
   "execution_count": null,
   "metadata": {},
   "outputs": [],
   "source": [
    "for a in [3, 4, 5, 6, 'life']:\n",
    "    print(a)\n",
    "\n",
    "for idx, a in enumerate([3, 4, 5, 6, 'life']):\n",
    "    print(idx, a)"
   ]
  },
  {
   "cell_type": "code",
   "execution_count": null,
   "metadata": {},
   "outputs": [],
   "source": [
    "#print(range(5))\n",
    "sum = 0\n",
    "for i in range(5):#0,1,2,3,4\n",
    "    sum += i\n",
    "    #sum = sum + i\n",
    "print(sum)\n"
   ]
  },
  {
   "cell_type": "code",
   "execution_count": null,
   "metadata": {},
   "outputs": [],
   "source": [
    "i = 1\n",
    "sum = 0\n",
    "while i <= 100:\n",
    "    sum += i\n",
    "    i += 1\n",
    "print(sum)\n",
    "#while True:\n",
    "#    break\n"
   ]
  },
  {
   "cell_type": "markdown",
   "metadata": {},
   "source": [
    "continue,break语句"
   ]
  },
  {
   "cell_type": "code",
   "execution_count": null,
   "metadata": {},
   "outputs": [],
   "source": [
    "for i in range(1,11):\n",
    "    if i%3 == 0:\n",
    "        print('{}能被3整除'.format(i))\n",
    "        continue\n",
    "    print('{}不能被3整除'.format(i)) \n",
    "\n",
    "sum = 0\n",
    "for i in range(1,101):\n",
    "    if sum < 1000 and sum +i > 1000:\n",
    "        print(i-1, sum)\n",
    "        break\n",
    "    else:\n",
    "        sum += i\n",
    "    #sum += i\n",
    "    # if sum > 1000:\n",
    "    #     print(i-1, sum-(i))\n",
    "    #     break"
   ]
  },
  {
   "cell_type": "code",
   "execution_count": null,
   "metadata": {},
   "outputs": [],
   "source": [
    "for i in range(1, 10, 2):\n",
    "    print(i)"
   ]
  }
 ],
 "metadata": {
  "kernelspec": {
   "display_name": "Python 3.9.12 ('base')",
   "language": "python",
   "name": "python3"
  },
  "language_info": {
   "codemirror_mode": {
    "name": "ipython",
    "version": 3
   },
   "file_extension": ".py",
   "mimetype": "text/x-python",
   "name": "python",
   "nbconvert_exporter": "python",
   "pygments_lexer": "ipython3",
   "version": "3.9.12"
  },
  "orig_nbformat": 4,
  "vscode": {
   "interpreter": {
    "hash": "ad2bdc8ecc057115af97d19610ffacc2b4e99fae6737bb82f5d7fb13d2f2c186"
   }
  }
 },
 "nbformat": 4,
 "nbformat_minor": 2
}
